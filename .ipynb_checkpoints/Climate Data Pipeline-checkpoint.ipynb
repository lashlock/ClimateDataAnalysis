{
 "cells": [
  {
   "cell_type": "code",
   "execution_count": 1,
   "metadata": {},
   "outputs": [],
   "source": [
    "#Import packages\n",
    "import os\n",
    "import numpy as np\n",
    "import pandas as pd\n",
    "import matplotlib.pyplot as plt\n",
    "import seaborn as sns"
   ]
  },
  {
   "cell_type": "code",
   "execution_count": 3,
   "metadata": {},
   "outputs": [
    {
     "ename": "FileNotFoundError",
     "evalue": "[Errno 2] File b'/Users/laurenashlock/Desktop/Climate Data Analysis/ClimateDataAnalysis/LIS_2009A.txt' does not exist: b'/Users/laurenashlock/Desktop/Climate Data Analysis/ClimateDataAnalysis/LIS_2009A.txt'",
     "output_type": "error",
     "traceback": [
      "\u001b[0;31m---------------------------------------------------------------------------\u001b[0m",
      "\u001b[0;31mFileNotFoundError\u001b[0m                         Traceback (most recent call last)",
      "\u001b[0;32m<ipython-input-3-c737f62b7505>\u001b[0m in \u001b[0;36m<module>\u001b[0;34m\u001b[0m\n\u001b[0;32m----> 1\u001b[0;31m \u001b[0mdf\u001b[0m\u001b[0;34m=\u001b[0m\u001b[0mpd\u001b[0m\u001b[0;34m.\u001b[0m\u001b[0mread_csv\u001b[0m\u001b[0;34m(\u001b[0m\u001b[0;34m'/Users/laurenashlock/Desktop/Climate Data Analysis/ClimateDataAnalysis/LIS_2009A.txt'\u001b[0m\u001b[0;34m,\u001b[0m \u001b[0mdelimiter\u001b[0m\u001b[0;34m=\u001b[0m \u001b[0;34m'\\s+'\u001b[0m\u001b[0;34m,\u001b[0m \u001b[0mindex_col\u001b[0m\u001b[0;34m=\u001b[0m\u001b[0;32mFalse\u001b[0m\u001b[0;34m)\u001b[0m\u001b[0;34m\u001b[0m\u001b[0;34m\u001b[0m\u001b[0m\n\u001b[0m",
      "\u001b[0;32m~/anaconda3/lib/python3.7/site-packages/pandas/io/parsers.py\u001b[0m in \u001b[0;36mparser_f\u001b[0;34m(filepath_or_buffer, sep, delimiter, header, names, index_col, usecols, squeeze, prefix, mangle_dupe_cols, dtype, engine, converters, true_values, false_values, skipinitialspace, skiprows, skipfooter, nrows, na_values, keep_default_na, na_filter, verbose, skip_blank_lines, parse_dates, infer_datetime_format, keep_date_col, date_parser, dayfirst, iterator, chunksize, compression, thousands, decimal, lineterminator, quotechar, quoting, doublequote, escapechar, comment, encoding, dialect, tupleize_cols, error_bad_lines, warn_bad_lines, delim_whitespace, low_memory, memory_map, float_precision)\u001b[0m\n\u001b[1;32m    700\u001b[0m                     skip_blank_lines=skip_blank_lines)\n\u001b[1;32m    701\u001b[0m \u001b[0;34m\u001b[0m\u001b[0m\n\u001b[0;32m--> 702\u001b[0;31m         \u001b[0;32mreturn\u001b[0m \u001b[0m_read\u001b[0m\u001b[0;34m(\u001b[0m\u001b[0mfilepath_or_buffer\u001b[0m\u001b[0;34m,\u001b[0m \u001b[0mkwds\u001b[0m\u001b[0;34m)\u001b[0m\u001b[0;34m\u001b[0m\u001b[0;34m\u001b[0m\u001b[0m\n\u001b[0m\u001b[1;32m    703\u001b[0m \u001b[0;34m\u001b[0m\u001b[0m\n\u001b[1;32m    704\u001b[0m     \u001b[0mparser_f\u001b[0m\u001b[0;34m.\u001b[0m\u001b[0m__name__\u001b[0m \u001b[0;34m=\u001b[0m \u001b[0mname\u001b[0m\u001b[0;34m\u001b[0m\u001b[0;34m\u001b[0m\u001b[0m\n",
      "\u001b[0;32m~/anaconda3/lib/python3.7/site-packages/pandas/io/parsers.py\u001b[0m in \u001b[0;36m_read\u001b[0;34m(filepath_or_buffer, kwds)\u001b[0m\n\u001b[1;32m    427\u001b[0m \u001b[0;34m\u001b[0m\u001b[0m\n\u001b[1;32m    428\u001b[0m     \u001b[0;31m# Create the parser.\u001b[0m\u001b[0;34m\u001b[0m\u001b[0;34m\u001b[0m\u001b[0;34m\u001b[0m\u001b[0m\n\u001b[0;32m--> 429\u001b[0;31m     \u001b[0mparser\u001b[0m \u001b[0;34m=\u001b[0m \u001b[0mTextFileReader\u001b[0m\u001b[0;34m(\u001b[0m\u001b[0mfilepath_or_buffer\u001b[0m\u001b[0;34m,\u001b[0m \u001b[0;34m**\u001b[0m\u001b[0mkwds\u001b[0m\u001b[0;34m)\u001b[0m\u001b[0;34m\u001b[0m\u001b[0;34m\u001b[0m\u001b[0m\n\u001b[0m\u001b[1;32m    430\u001b[0m \u001b[0;34m\u001b[0m\u001b[0m\n\u001b[1;32m    431\u001b[0m     \u001b[0;32mif\u001b[0m \u001b[0mchunksize\u001b[0m \u001b[0;32mor\u001b[0m \u001b[0miterator\u001b[0m\u001b[0;34m:\u001b[0m\u001b[0;34m\u001b[0m\u001b[0;34m\u001b[0m\u001b[0m\n",
      "\u001b[0;32m~/anaconda3/lib/python3.7/site-packages/pandas/io/parsers.py\u001b[0m in \u001b[0;36m__init__\u001b[0;34m(self, f, engine, **kwds)\u001b[0m\n\u001b[1;32m    893\u001b[0m             \u001b[0mself\u001b[0m\u001b[0;34m.\u001b[0m\u001b[0moptions\u001b[0m\u001b[0;34m[\u001b[0m\u001b[0;34m'has_index_names'\u001b[0m\u001b[0;34m]\u001b[0m \u001b[0;34m=\u001b[0m \u001b[0mkwds\u001b[0m\u001b[0;34m[\u001b[0m\u001b[0;34m'has_index_names'\u001b[0m\u001b[0;34m]\u001b[0m\u001b[0;34m\u001b[0m\u001b[0;34m\u001b[0m\u001b[0m\n\u001b[1;32m    894\u001b[0m \u001b[0;34m\u001b[0m\u001b[0m\n\u001b[0;32m--> 895\u001b[0;31m         \u001b[0mself\u001b[0m\u001b[0;34m.\u001b[0m\u001b[0m_make_engine\u001b[0m\u001b[0;34m(\u001b[0m\u001b[0mself\u001b[0m\u001b[0;34m.\u001b[0m\u001b[0mengine\u001b[0m\u001b[0;34m)\u001b[0m\u001b[0;34m\u001b[0m\u001b[0;34m\u001b[0m\u001b[0m\n\u001b[0m\u001b[1;32m    896\u001b[0m \u001b[0;34m\u001b[0m\u001b[0m\n\u001b[1;32m    897\u001b[0m     \u001b[0;32mdef\u001b[0m \u001b[0mclose\u001b[0m\u001b[0;34m(\u001b[0m\u001b[0mself\u001b[0m\u001b[0;34m)\u001b[0m\u001b[0;34m:\u001b[0m\u001b[0;34m\u001b[0m\u001b[0;34m\u001b[0m\u001b[0m\n",
      "\u001b[0;32m~/anaconda3/lib/python3.7/site-packages/pandas/io/parsers.py\u001b[0m in \u001b[0;36m_make_engine\u001b[0;34m(self, engine)\u001b[0m\n\u001b[1;32m   1120\u001b[0m     \u001b[0;32mdef\u001b[0m \u001b[0m_make_engine\u001b[0m\u001b[0;34m(\u001b[0m\u001b[0mself\u001b[0m\u001b[0;34m,\u001b[0m \u001b[0mengine\u001b[0m\u001b[0;34m=\u001b[0m\u001b[0;34m'c'\u001b[0m\u001b[0;34m)\u001b[0m\u001b[0;34m:\u001b[0m\u001b[0;34m\u001b[0m\u001b[0;34m\u001b[0m\u001b[0m\n\u001b[1;32m   1121\u001b[0m         \u001b[0;32mif\u001b[0m \u001b[0mengine\u001b[0m \u001b[0;34m==\u001b[0m \u001b[0;34m'c'\u001b[0m\u001b[0;34m:\u001b[0m\u001b[0;34m\u001b[0m\u001b[0;34m\u001b[0m\u001b[0m\n\u001b[0;32m-> 1122\u001b[0;31m             \u001b[0mself\u001b[0m\u001b[0;34m.\u001b[0m\u001b[0m_engine\u001b[0m \u001b[0;34m=\u001b[0m \u001b[0mCParserWrapper\u001b[0m\u001b[0;34m(\u001b[0m\u001b[0mself\u001b[0m\u001b[0;34m.\u001b[0m\u001b[0mf\u001b[0m\u001b[0;34m,\u001b[0m \u001b[0;34m**\u001b[0m\u001b[0mself\u001b[0m\u001b[0;34m.\u001b[0m\u001b[0moptions\u001b[0m\u001b[0;34m)\u001b[0m\u001b[0;34m\u001b[0m\u001b[0;34m\u001b[0m\u001b[0m\n\u001b[0m\u001b[1;32m   1123\u001b[0m         \u001b[0;32melse\u001b[0m\u001b[0;34m:\u001b[0m\u001b[0;34m\u001b[0m\u001b[0;34m\u001b[0m\u001b[0m\n\u001b[1;32m   1124\u001b[0m             \u001b[0;32mif\u001b[0m \u001b[0mengine\u001b[0m \u001b[0;34m==\u001b[0m \u001b[0;34m'python'\u001b[0m\u001b[0;34m:\u001b[0m\u001b[0;34m\u001b[0m\u001b[0;34m\u001b[0m\u001b[0m\n",
      "\u001b[0;32m~/anaconda3/lib/python3.7/site-packages/pandas/io/parsers.py\u001b[0m in \u001b[0;36m__init__\u001b[0;34m(self, src, **kwds)\u001b[0m\n\u001b[1;32m   1851\u001b[0m         \u001b[0mkwds\u001b[0m\u001b[0;34m[\u001b[0m\u001b[0;34m'usecols'\u001b[0m\u001b[0;34m]\u001b[0m \u001b[0;34m=\u001b[0m \u001b[0mself\u001b[0m\u001b[0;34m.\u001b[0m\u001b[0musecols\u001b[0m\u001b[0;34m\u001b[0m\u001b[0;34m\u001b[0m\u001b[0m\n\u001b[1;32m   1852\u001b[0m \u001b[0;34m\u001b[0m\u001b[0m\n\u001b[0;32m-> 1853\u001b[0;31m         \u001b[0mself\u001b[0m\u001b[0;34m.\u001b[0m\u001b[0m_reader\u001b[0m \u001b[0;34m=\u001b[0m \u001b[0mparsers\u001b[0m\u001b[0;34m.\u001b[0m\u001b[0mTextReader\u001b[0m\u001b[0;34m(\u001b[0m\u001b[0msrc\u001b[0m\u001b[0;34m,\u001b[0m \u001b[0;34m**\u001b[0m\u001b[0mkwds\u001b[0m\u001b[0;34m)\u001b[0m\u001b[0;34m\u001b[0m\u001b[0;34m\u001b[0m\u001b[0m\n\u001b[0m\u001b[1;32m   1854\u001b[0m         \u001b[0mself\u001b[0m\u001b[0;34m.\u001b[0m\u001b[0munnamed_cols\u001b[0m \u001b[0;34m=\u001b[0m \u001b[0mself\u001b[0m\u001b[0;34m.\u001b[0m\u001b[0m_reader\u001b[0m\u001b[0;34m.\u001b[0m\u001b[0munnamed_cols\u001b[0m\u001b[0;34m\u001b[0m\u001b[0;34m\u001b[0m\u001b[0m\n\u001b[1;32m   1855\u001b[0m \u001b[0;34m\u001b[0m\u001b[0m\n",
      "\u001b[0;32mpandas/_libs/parsers.pyx\u001b[0m in \u001b[0;36mpandas._libs.parsers.TextReader.__cinit__\u001b[0;34m()\u001b[0m\n",
      "\u001b[0;32mpandas/_libs/parsers.pyx\u001b[0m in \u001b[0;36mpandas._libs.parsers.TextReader._setup_parser_source\u001b[0;34m()\u001b[0m\n",
      "\u001b[0;31mFileNotFoundError\u001b[0m: [Errno 2] File b'/Users/laurenashlock/Desktop/Climate Data Analysis/ClimateDataAnalysis/LIS_2009A.txt' does not exist: b'/Users/laurenashlock/Desktop/Climate Data Analysis/ClimateDataAnalysis/LIS_2009A.txt'"
     ]
    }
   ],
   "source": [
    "df=pd.read_csv('/Users/laurenashlock/Desktop/Climate Data Analysis/ClimateDataAnalysis/LIS_2009A.txt', delimiter= '\\s+', index_col=False)"
   ]
  },
  {
   "cell_type": "code",
   "execution_count": null,
   "metadata": {
    "scrolled": true
   },
   "outputs": [],
   "source": [
    "df"
   ]
  },
  {
   "cell_type": "code",
   "execution_count": 5,
   "metadata": {},
   "outputs": [
    {
     "data": {
      "text/plain": [
       "<bound method NDFrame.head of         #YY  MM  DD  hh  mm WDIR  WSPD   GST   WVHT    DPD    APD  MWD  \\\n",
       "1      2009  01  01  00  00  999  99.0  99.0  99.00  99.00  99.00  999   \n",
       "2      2009  01  01  00  06  999  99.0  99.0  99.00  99.00  99.00  999   \n",
       "3      2009  01  01  00  12  999  99.0  99.0  99.00  99.00  99.00  999   \n",
       "4      2009  01  01  00  18  999  99.0  99.0  99.00  99.00  99.00  999   \n",
       "5      2009  01  01  00  24  999  99.0  99.0  99.00  99.00  99.00  999   \n",
       "6      2009  01  01  00  30  999  99.0  99.0  99.00  99.00  99.00  999   \n",
       "7      2009  01  01  00  36  999  99.0  99.0  99.00  99.00  99.00  999   \n",
       "8      2009  01  01  00  42  999  99.0  99.0  99.00  99.00  99.00  999   \n",
       "9      2009  01  01  00  48  999  99.0  99.0  99.00  99.00  99.00  999   \n",
       "10     2009  01  01  00  54  999  99.0  99.0  99.00  99.00  99.00  999   \n",
       "11     2009  01  01  01  00  999  99.0  99.0  99.00  99.00  99.00  999   \n",
       "12     2009  01  01  01  06  999  99.0  99.0  99.00  99.00  99.00  999   \n",
       "13     2009  01  01  01  12  999  99.0  99.0  99.00  99.00  99.00  999   \n",
       "14     2009  01  01  01  18  999  99.0  99.0  99.00  99.00  99.00  999   \n",
       "15     2009  01  01  01  24  999  99.0  99.0  99.00  99.00  99.00  999   \n",
       "16     2009  01  01  01  30  999  99.0  99.0  99.00  99.00  99.00  999   \n",
       "17     2009  01  01  01  36  999  99.0  99.0  99.00  99.00  99.00  999   \n",
       "18     2009  01  01  01  42  999  99.0  99.0  99.00  99.00  99.00  999   \n",
       "19     2009  01  01  01  48  999  99.0  99.0  99.00  99.00  99.00  999   \n",
       "20     2009  01  01  01  54  999  99.0  99.0  99.00  99.00  99.00  999   \n",
       "21     2009  01  01  02  06  999  99.0  99.0  99.00  99.00  99.00  999   \n",
       "22     2009  01  01  02  12  999  99.0  99.0  99.00  99.00  99.00  999   \n",
       "23     2009  01  01  02  18  999  99.0  99.0  99.00  99.00  99.00  999   \n",
       "24     2009  01  01  02  24  999  99.0  99.0  99.00  99.00  99.00  999   \n",
       "25     2009  01  01  02  30  999  99.0  99.0  99.00  99.00  99.00  999   \n",
       "26     2009  01  01  02  36  999  99.0  99.0  99.00  99.00  99.00  999   \n",
       "27     2009  01  01  02  42  999  99.0  99.0  99.00  99.00  99.00  999   \n",
       "28     2009  01  01  02  48  999  99.0  99.0  99.00  99.00  99.00  999   \n",
       "29     2009  01  01  02  54  999  99.0  99.0  99.00  99.00  99.00  999   \n",
       "30     2009  01  01  03  00  999  99.0  99.0  99.00  99.00  99.00  999   \n",
       "...     ...  ..  ..  ..  ..  ...   ...   ...    ...    ...    ...  ...   \n",
       "83380  2009  12  31  20  54   27   0.8   1.4     99     99     99  999   \n",
       "83381  2009  12  31  21   0   45   0.7   1.3     99     99     99  999   \n",
       "83382  2009  12  31  21   6   43   1.1   1.2     99     99     99  999   \n",
       "83383  2009  12  31  21  12   34   1.3   1.9     99     99     99  999   \n",
       "83384  2009  12  31  21  18   34     1   1.8     99     99     99  999   \n",
       "83385  2009  12  31  21  24   30     1   1.9     99     99     99  999   \n",
       "83386  2009  12  31  21  30   20   1.8   2.3     99     99     99  999   \n",
       "83387  2009  12  31  21  36   22     2   2.4     99     99     99  999   \n",
       "83388  2009  12  31  21  42   20     2   2.8     99     99     99  999   \n",
       "83389  2009  12  31  21  48   38     2   2.5     99     99     99  999   \n",
       "83390  2009  12  31  21  54   30   0.9   2.4     99     99     99  999   \n",
       "83391  2009  12  31  22   0   37   1.1   1.6     99     99     99  999   \n",
       "83392  2009  12  31  22   6   31     1   2.1     99     99     99  999   \n",
       "83393  2009  12  31  22  12   31   1.2   2.1     99     99     99  999   \n",
       "83394  2009  12  31  22  18   23   0.7   1.7     99     99     99  999   \n",
       "83395  2009  12  31  22  24   19   1.3     2     99     99     99  999   \n",
       "83396  2009  12  31  22  30   29   1.2   2.2     99     99     99  999   \n",
       "83397  2009  12  31  22  36   24   1.5   2.1     99     99     99  999   \n",
       "83398  2009  12  31  22  42   16   2.2   2.6     99     99     99  999   \n",
       "83399  2009  12  31  22  54   19   1.8   2.3     99     99     99  999   \n",
       "83400  2009  12  31  23   0   18   2.3   2.6     99     99     99  999   \n",
       "83401  2009  12  31  23   6   15   2.2   2.6     99     99     99  999   \n",
       "83402  2009  12  31  23  12   18   1.8   2.6     99     99     99  999   \n",
       "83403  2009  12  31  23  18   22   1.1   1.9     99     99     99  999   \n",
       "83404  2009  12  31  23  24   14   1.8   2.1     99     99     99  999   \n",
       "83405  2009  12  31  23  30    4   1.4   2.1     99     99     99  999   \n",
       "83406  2009  12  31  23  36   18   1.6   2.2     99     99     99  999   \n",
       "83407  2009  12  31  23  42   13     2   2.5     99     99     99  999   \n",
       "83408  2009  12  31  23  48   29   1.1   1.9     99     99     99  999   \n",
       "83409  2009  12  31  23  54   22   1.7   2.3     99     99     99  999   \n",
       "\n",
       "         PRES   ATMP WTMP   DEWP   VIS   TIDE  \n",
       "1      9999.0  999.0  4.0  999.0  99.0  99.00  \n",
       "2      9999.0  999.0  4.0  999.0  99.0  99.00  \n",
       "3      9999.0  999.0  3.9  999.0  99.0  99.00  \n",
       "4      9999.0  999.0  4.0  999.0  99.0  99.00  \n",
       "5      9999.0  999.0  3.9  999.0  99.0  99.00  \n",
       "6      9999.0  999.0  3.9  999.0  99.0  99.00  \n",
       "7      9999.0  999.0  3.8  999.0  99.0  99.00  \n",
       "8      9999.0  999.0  3.9  999.0  99.0  99.00  \n",
       "9      9999.0  999.0  3.9  999.0  99.0  99.00  \n",
       "10     9999.0  999.0  3.7  999.0  99.0  99.00  \n",
       "11     9999.0  999.0  3.7  999.0  99.0  99.00  \n",
       "12     9999.0  999.0  3.8  999.0  99.0  99.00  \n",
       "13     9999.0  999.0  3.6  999.0  99.0  99.00  \n",
       "14     9999.0  999.0  3.7  999.0  99.0  99.00  \n",
       "15     9999.0  999.0  3.8  999.0  99.0  99.00  \n",
       "16     9999.0  999.0  3.8  999.0  99.0  99.00  \n",
       "17     9999.0  999.0  3.7  999.0  99.0  99.00  \n",
       "18     9999.0  999.0  3.7  999.0  99.0  99.00  \n",
       "19     9999.0  999.0  3.7  999.0  99.0  99.00  \n",
       "20     9999.0  999.0  3.7  999.0  99.0  99.00  \n",
       "21     9999.0  999.0  3.5  999.0  99.0  99.00  \n",
       "22     9999.0  999.0  3.6  999.0  99.0  99.00  \n",
       "23     9999.0  999.0  4.1  999.0  99.0  99.00  \n",
       "24     9999.0  999.0  4.4  999.0  99.0  99.00  \n",
       "25     9999.0  999.0  4.3  999.0  99.0  99.00  \n",
       "26     9999.0  999.0  4.2  999.0  99.0  99.00  \n",
       "27     9999.0  999.0  4.2  999.0  99.0  99.00  \n",
       "28     9999.0  999.0  4.2  999.0  99.0  99.00  \n",
       "29     9999.0  999.0  4.4  999.0  99.0  99.00  \n",
       "30     9999.0  999.0  4.2  999.0  99.0  99.00  \n",
       "...       ...    ...  ...    ...   ...    ...  \n",
       "83380  1020.3    999  3.1    999    99     99  \n",
       "83381  1020.3    999    3    999    99     99  \n",
       "83382  1020.2    999  3.1    999    99     99  \n",
       "83383    1020    999  2.9    999    99     99  \n",
       "83384    1020    999  2.9    999    99     99  \n",
       "83385    1020    999    3    999    99     99  \n",
       "83386    1020    999  3.1    999    99     99  \n",
       "83387  1019.9    999    3    999    99     99  \n",
       "83388  1019.9    999  3.2    999    99     99  \n",
       "83389  1019.7    999  3.4    999    99     99  \n",
       "83390  1019.8    999  3.7    999    99     99  \n",
       "83391  1019.7    999  4.4    999    99     99  \n",
       "83392  1019.6    999    5    999    99     99  \n",
       "83393  1019.4    999  5.2    999    99     99  \n",
       "83394  1019.3    999  5.2    999    99     99  \n",
       "83395  1019.3    999  5.4    999    99     99  \n",
       "83396  1019.4    999  5.2    999    99     99  \n",
       "83397  1019.3    999  4.9    999    99     99  \n",
       "83398  1019.4    999  5.1    999    99     99  \n",
       "83399  1019.3    999  5.1    999    99     99  \n",
       "83400  1019.2    999  5.6    999    99     99  \n",
       "83401  1019.2    999  5.7    999    99     99  \n",
       "83402  1019.3    999  5.8    999    99     99  \n",
       "83403  1019.4    999    6    999    99     99  \n",
       "83404  1019.4    999  5.9    999    99     99  \n",
       "83405  1019.4    999  5.5    999    99     99  \n",
       "83406  1019.4    999  5.4    999    99     99  \n",
       "83407  1019.3    999    5    999    99     99  \n",
       "83408  1019.3    999  5.3    999    99     99  \n",
       "83409  1019.2    999  5.7    999    99     99  \n",
       "\n",
       "[83409 rows x 18 columns]>"
      ]
     },
     "execution_count": 5,
     "metadata": {},
     "output_type": "execute_result"
    }
   ],
   "source": [
    "#Want to drop the first row\n",
    "newDF = df.drop(0)\n",
    "newDF.head"
   ]
  },
  {
   "cell_type": "code",
   "execution_count": 10,
   "metadata": {
    "scrolled": true
   },
   "outputs": [
    {
     "data": {
      "text/plain": [
       "#YY     object\n",
       "MM      object\n",
       "DD      object\n",
       "hh      object\n",
       "mm      object\n",
       "WTMP    object\n",
       "dtype: object"
      ]
     },
     "execution_count": 10,
     "metadata": {},
     "output_type": "execute_result"
    }
   ],
   "source": [
    "#Alright, now I want to get rid of any unnecessary rows\n",
    "subDF = newDF[['#YY','MM','DD','hh','mm','WTMP']]\n",
    "subDF\n",
    "subDF.dtypes"
   ]
  },
  {
   "cell_type": "code",
   "execution_count": 14,
   "metadata": {},
   "outputs": [
    {
     "name": "stdout",
     "output_type": "stream",
     "text": [
      "#YY      object\n",
      "MM       object\n",
      "DD       object\n",
      "hh       object\n",
      "mm       object\n",
      "WTMP    float64\n",
      "dtype: object\n"
     ]
    }
   ],
   "source": [
    "convert_dict = {'WTMP': float,\n",
    "               } \n",
    "  \n",
    "subDF = subDF.astype(convert_dict) \n",
    "print(subDF.dtypes)"
   ]
  },
  {
   "cell_type": "code",
   "execution_count": 15,
   "metadata": {},
   "outputs": [
    {
     "data": {
      "text/plain": [
       "#YY     2009\n",
       "MM        12\n",
       "DD        30\n",
       "hh         8\n",
       "mm         6\n",
       "WTMP     1.2\n",
       "Name: 83031, dtype: object"
      ]
     },
     "execution_count": 15,
     "metadata": {},
     "output_type": "execute_result"
    }
   ],
   "source": [
    "subDF.loc[subDF['WTMP'].idxmin()]"
   ]
  },
  {
   "cell_type": "code",
   "execution_count": 16,
   "metadata": {},
   "outputs": [
    {
     "data": {
      "text/plain": [
       "#YY     2009\n",
       "MM         6\n",
       "DD        18\n",
       "hh        10\n",
       "mm        30\n",
       "WTMP     999\n",
       "Name: 37753, dtype: object"
      ]
     },
     "execution_count": 16,
     "metadata": {},
     "output_type": "execute_result"
    }
   ],
   "source": [
    "subDF.loc[subDF['WTMP'].idxmax()]\n",
    "#Need to get rid of 999 values"
   ]
  },
  {
   "cell_type": "code",
   "execution_count": 17,
   "metadata": {},
   "outputs": [],
   "source": [
    "#Now need to get rid of 999s\n",
    "subDF.drop( subDF[ subDF['WTMP'] >= 999 ].index , inplace=True)"
   ]
  },
  {
   "cell_type": "code",
   "execution_count": 19,
   "metadata": {
    "collapsed": true
   },
   "outputs": [
    {
     "data": {
      "text/plain": [
       "#YY     2009\n",
       "MM         6\n",
       "DD        18\n",
       "hh         6\n",
       "mm        48\n",
       "WTMP    28.7\n",
       "Name: 37716, dtype: object"
      ]
     },
     "execution_count": 19,
     "metadata": {},
     "output_type": "execute_result"
    }
   ],
   "source": [
    "subDF\n",
    "subDF.loc[subDF['WTMP'].idxmax()]\n",
    "#That's more like it :) "
   ]
  },
  {
   "cell_type": "code",
   "execution_count": 11,
   "metadata": {},
   "outputs": [],
   "source": [
    "#I think the next step will be to download and read in data from all desired years\n",
    "#... then clean them up ... then combine them together\n",
    "#Then work on how to subset data and find simple summary stats... then move into plotting"
   ]
  },
  {
   "cell_type": "code",
   "execution_count": null,
   "metadata": {},
   "outputs": [],
   "source": []
  }
 ],
 "metadata": {
  "kernelspec": {
   "display_name": "Python 3",
   "language": "python",
   "name": "python3"
  },
  "language_info": {
   "codemirror_mode": {
    "name": "ipython",
    "version": 3
   },
   "file_extension": ".py",
   "mimetype": "text/x-python",
   "name": "python",
   "nbconvert_exporter": "python",
   "pygments_lexer": "ipython3",
   "version": "3.7.3"
  }
 },
 "nbformat": 4,
 "nbformat_minor": 2
}
